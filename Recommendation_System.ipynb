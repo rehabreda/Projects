{
  "nbformat": 4,
  "nbformat_minor": 0,
  "metadata": {
    "colab": {
      "name": "Recommendation_System.ipynb",
      "provenance": [],
      "include_colab_link": true
    },
    "kernelspec": {
      "display_name": "Python [Root]",
      "language": "python",
      "name": "Python [Root]"
    },
    "language_info": {
      "codemirror_mode": {
        "name": "ipython",
        "version": 3
      },
      "file_extension": ".py",
      "mimetype": "text/x-python",
      "name": "python",
      "nbconvert_exporter": "python",
      "pygments_lexer": "ipython3",
      "version": "3.5.6"
    }
  },
  "cells": [
    {
      "cell_type": "markdown",
      "metadata": {
        "id": "view-in-github",
        "colab_type": "text"
      },
      "source": [
        "<a href=\"https://colab.research.google.com/github/rehabreda/Projects/blob/master/Recommendation_System.ipynb\" target=\"_parent\"><img src=\"https://colab.research.google.com/assets/colab-badge.svg\" alt=\"Open In Colab\"/></a>"
      ]
    },
    {
      "cell_type": "code",
      "metadata": {
        "colab_type": "code",
        "id": "UPjTzjOT09vn",
        "colab": {}
      },
      "source": [
        "### import libraries \n",
        "import pandas as pd \n",
        "import numpy as np \n",
        "import re\n",
        "from sklearn.model_selection import train_test_split\n",
        "from sklearn.feature_extraction.text import TfidfVectorizer\n",
        "from sklearn.naive_bayes import MultinomialNB\n",
        "from sklearn.multiclass import OneVsRestClassifier"
      ],
      "execution_count": 0,
      "outputs": []
    },
    {
      "cell_type": "code",
      "metadata": {
        "colab_type": "code",
        "id": "qlGT7nFy1HbO",
        "colab": {}
      },
      "source": [
        "## load data from drive\n",
        "data=pd.read_csv('jobs_data.csv')\n"
      ],
      "execution_count": 0,
      "outputs": []
    },
    {
      "cell_type": "markdown",
      "metadata": {
        "id": "7OpRgXKwC4F9",
        "colab_type": "text"
      },
      "source": [
        "# check if there is null in data"
      ]
    },
    {
      "cell_type": "code",
      "metadata": {
        "colab_type": "code",
        "id": "nKJZvj6j-7Zo",
        "outputId": "83587ff4-d322-443a-e54f-da27fa64073d",
        "colab": {
          "base_uri": "https://localhost:8080/",
          "height": 108
        }
      },
      "source": [
        "data.isnull().sum()"
      ],
      "execution_count": 3,
      "outputs": [
        {
          "output_type": "execute_result",
          "data": {
            "text/plain": [
              "Unnamed: 0     0\n",
              "title          0\n",
              "jobFunction    0\n",
              "industry       0\n",
              "dtype: int64"
            ]
          },
          "metadata": {
            "tags": []
          },
          "execution_count": 3
        }
      ]
    },
    {
      "cell_type": "code",
      "metadata": {
        "colab_type": "code",
        "id": "tUrZYXdA1U3v",
        "outputId": "39eda10c-a3a2-4db5-c404-36a4b8d9d26d",
        "colab": {
          "base_uri": "https://localhost:8080/",
          "height": 198
        }
      },
      "source": [
        "data.head()"
      ],
      "execution_count": 12,
      "outputs": [
        {
          "output_type": "execute_result",
          "data": {
            "text/html": [
              "<div>\n",
              "<style scoped>\n",
              "    .dataframe tbody tr th:only-of-type {\n",
              "        vertical-align: middle;\n",
              "    }\n",
              "\n",
              "    .dataframe tbody tr th {\n",
              "        vertical-align: top;\n",
              "    }\n",
              "\n",
              "    .dataframe thead th {\n",
              "        text-align: right;\n",
              "    }\n",
              "</style>\n",
              "<table border=\"1\" class=\"dataframe\">\n",
              "  <thead>\n",
              "    <tr style=\"text-align: right;\">\n",
              "      <th></th>\n",
              "      <th>Unnamed: 0</th>\n",
              "      <th>title</th>\n",
              "      <th>jobFunction</th>\n",
              "      <th>industry</th>\n",
              "    </tr>\n",
              "  </thead>\n",
              "  <tbody>\n",
              "    <tr>\n",
              "      <th>0</th>\n",
              "      <td>0</td>\n",
              "      <td>Full Stack PHP Developer</td>\n",
              "      <td>['Engineering - Telecom/Technology', 'IT/Softw...</td>\n",
              "      <td>['Computer Software', 'Marketing and Advertisi...</td>\n",
              "    </tr>\n",
              "    <tr>\n",
              "      <th>1</th>\n",
              "      <td>1</td>\n",
              "      <td>CISCO Collaboration Specialist Engineer</td>\n",
              "      <td>['Installation/Maintenance/Repair', 'IT/Softwa...</td>\n",
              "      <td>['Information Technology Services']</td>\n",
              "    </tr>\n",
              "    <tr>\n",
              "      <th>2</th>\n",
              "      <td>2</td>\n",
              "      <td>Senior Back End-PHP Developer</td>\n",
              "      <td>['Engineering - Telecom/Technology', 'IT/Softw...</td>\n",
              "      <td>['Computer Software', 'Computer Networking']</td>\n",
              "    </tr>\n",
              "    <tr>\n",
              "      <th>3</th>\n",
              "      <td>3</td>\n",
              "      <td>UX Designer</td>\n",
              "      <td>['Creative/Design/Art', 'IT/Software Developme...</td>\n",
              "      <td>['Computer Software', 'Information Technology ...</td>\n",
              "    </tr>\n",
              "    <tr>\n",
              "      <th>4</th>\n",
              "      <td>4</td>\n",
              "      <td>Java Technical Lead</td>\n",
              "      <td>['Engineering - Telecom/Technology', 'IT/Softw...</td>\n",
              "      <td>['Computer Software', 'Information Technology ...</td>\n",
              "    </tr>\n",
              "  </tbody>\n",
              "</table>\n",
              "</div>"
            ],
            "text/plain": [
              "   Unnamed: 0  ...                                           industry\n",
              "0           0  ...  ['Computer Software', 'Marketing and Advertisi...\n",
              "1           1  ...                ['Information Technology Services']\n",
              "2           2  ...       ['Computer Software', 'Computer Networking']\n",
              "3           3  ...  ['Computer Software', 'Information Technology ...\n",
              "4           4  ...  ['Computer Software', 'Information Technology ...\n",
              "\n",
              "[5 rows x 4 columns]"
            ]
          },
          "metadata": {
            "tags": []
          },
          "execution_count": 12
        }
      ]
    },
    {
      "cell_type": "code",
      "metadata": {
        "id": "3Sd_L_-HJBXt",
        "colab_type": "code",
        "colab": {}
      },
      "source": [
        "## clean function \n",
        "def clean(text):\n",
        "    text=text.lower()  # make all characters small\n",
        "    text=re.sub(r\"\\-\\s[a-z]*\",\" \",text)\n",
        "    text=re.sub(r\"[^\\w]\",\" \",text) ## remove non characters \n",
        "    text=re.sub(r'[\\u0600-\\u06FF]+',' ',text) ## remove arabic words \n",
        "    text=re.sub(r'\\s+',\" \",text) ## remove spaces \n",
        "    return text"
      ],
      "execution_count": 0,
      "outputs": []
    },
    {
      "cell_type": "code",
      "metadata": {
        "id": "Z8DmJ1hlI0f1",
        "colab_type": "code",
        "colab": {}
      },
      "source": [
        "data['title']=data['title'].apply(clean)"
      ],
      "execution_count": 0,
      "outputs": []
    },
    {
      "cell_type": "code",
      "metadata": {
        "id": "S8vswHH-I0af",
        "colab_type": "code",
        "colab": {
          "base_uri": "https://localhost:8080/",
          "height": 235
        },
        "outputId": "330e8927-3289-4f79-ba80-a6177c6a65ae"
      },
      "source": [
        "data['title']"
      ],
      "execution_count": 45,
      "outputs": [
        {
          "output_type": "execute_result",
          "data": {
            "text/plain": [
              "0                          full stack php developer\n",
              "1           cisco collaboration specialist engineer\n",
              "2                     senior back end php developer\n",
              "3                                       ux designer\n",
              "4                               java technical lead\n",
              "                            ...                    \n",
              "10865                                odoo developer\n",
              "10866                         senior php developer \n",
              "10867    sales account manager real estate medical \n",
              "10868       technical and network support engineer \n",
              "10869                         senior java developer\n",
              "Name: title, Length: 10870, dtype: object"
            ]
          },
          "metadata": {
            "tags": []
          },
          "execution_count": 45
        }
      ]
    },
    {
      "cell_type": "markdown",
      "metadata": {
        "id": "c7HWjt0KC4GV",
        "colab_type": "text"
      },
      "source": [
        "# one hot encoding for jobFunction"
      ]
    },
    {
      "cell_type": "code",
      "metadata": {
        "colab_type": "code",
        "id": "-U-v0RR_4uhi",
        "colab": {}
      },
      "source": [
        "df_out = data.assign(**pd.get_dummies(data.jobFunction.apply(lambda x:pd.Series(x)).stack().reset_index(level=1,drop=True)).sum(level=0))"
      ],
      "execution_count": 0,
      "outputs": []
    },
    {
      "cell_type": "code",
      "metadata": {
        "colab_type": "code",
        "id": "UVgvKXc240W6",
        "outputId": "cc3984ea-6ec6-4a24-b14f-b5ca5f98666f",
        "colab": {
          "base_uri": "https://localhost:8080/",
          "height": 627
        }
      },
      "source": [
        "df_out.head()"
      ],
      "execution_count": 49,
      "outputs": [
        {
          "output_type": "execute_result",
          "data": {
            "text/html": [
              "<div>\n",
              "<style scoped>\n",
              "    .dataframe tbody tr th:only-of-type {\n",
              "        vertical-align: middle;\n",
              "    }\n",
              "\n",
              "    .dataframe tbody tr th {\n",
              "        vertical-align: top;\n",
              "    }\n",
              "\n",
              "    .dataframe thead th {\n",
              "        text-align: right;\n",
              "    }\n",
              "</style>\n",
              "<table border=\"1\" class=\"dataframe\">\n",
              "  <thead>\n",
              "    <tr style=\"text-align: right;\">\n",
              "      <th></th>\n",
              "      <th>Unnamed: 0</th>\n",
              "      <th>title</th>\n",
              "      <th>jobFunction</th>\n",
              "      <th>industry</th>\n",
              "      <th>['Accounting/Finance', 'Administration', 'Operations/Management']</th>\n",
              "      <th>['Accounting/Finance', 'Administration']</th>\n",
              "      <th>['Accounting/Finance', 'Analyst/Research']</th>\n",
              "      <th>['Accounting/Finance', 'Banking']</th>\n",
              "      <th>['Accounting/Finance', 'Business Development']</th>\n",
              "      <th>['Accounting/Finance', 'C-Level Executive/GM/Director']</th>\n",
              "      <th>['Accounting/Finance', 'Customer Service/Support', 'IT/Software Development']</th>\n",
              "      <th>['Accounting/Finance', 'Customer Service/Support']</th>\n",
              "      <th>['Accounting/Finance', 'Education/Teaching']</th>\n",
              "      <th>['Accounting/Finance', 'Engineering - Telecom/Technology', 'IT/Software Development']</th>\n",
              "      <th>['Accounting/Finance', 'Human Resources', 'Administration']</th>\n",
              "      <th>['Accounting/Finance', 'Human Resources']</th>\n",
              "      <th>['Accounting/Finance', 'IT/Software Development', 'Engineering - Telecom/Technology']</th>\n",
              "      <th>['Accounting/Finance', 'IT/Software Development', 'Strategy/Consulting']</th>\n",
              "      <th>['Accounting/Finance', 'IT/Software Development']</th>\n",
              "      <th>['Accounting/Finance', 'Logistics/Supply Chain']</th>\n",
              "      <th>['Accounting/Finance', 'Operations/Management']</th>\n",
              "      <th>['Accounting/Finance', 'Pharmaceutical']</th>\n",
              "      <th>['Accounting/Finance', 'Project/Program Management']</th>\n",
              "      <th>['Accounting/Finance', 'Quality', 'IT/Software Development']</th>\n",
              "      <th>['Accounting/Finance', 'Sales/Retail']</th>\n",
              "      <th>['Accounting/Finance', 'Strategy/Consulting', 'IT/Software Development']</th>\n",
              "      <th>['Accounting/Finance', 'Strategy/Consulting']</th>\n",
              "      <th>['Accounting/Finance']</th>\n",
              "      <th>['Administration', 'Accounting/Finance']</th>\n",
              "      <th>['Administration', 'Business Development', 'Operations/Management']</th>\n",
              "      <th>['Administration', 'Customer Service/Support', 'Marketing/PR/Advertising']</th>\n",
              "      <th>['Administration', 'Customer Service/Support', 'Medical/Healthcare']</th>\n",
              "      <th>['Administration', 'Customer Service/Support', 'Operations/Management']</th>\n",
              "      <th>['Administration', 'Customer Service/Support', 'Sales/Retail']</th>\n",
              "      <th>['Administration', 'Customer Service/Support']</th>\n",
              "      <th>['Administration', 'Education/Teaching']</th>\n",
              "      <th>['Administration', 'Engineering - Construction/Civil/Architecture', 'Engineering - Mechanical/Electrical']</th>\n",
              "      <th>['Administration', 'Engineering - Construction/Civil/Architecture']</th>\n",
              "      <th>['Administration', 'Engineering - Telecom/Technology', 'IT/Software Development']</th>\n",
              "      <th>['Administration', 'Human Resources']</th>\n",
              "      <th>...</th>\n",
              "      <th>['Sales/Retail', 'Operations/Management', 'Business Development']</th>\n",
              "      <th>['Sales/Retail', 'Operations/Management']</th>\n",
              "      <th>['Sales/Retail', 'Pharmaceutical', 'Engineering - Other']</th>\n",
              "      <th>['Sales/Retail', 'Pharmaceutical']</th>\n",
              "      <th>['Sales/Retail', 'Project/Program Management', 'Medical/Healthcare']</th>\n",
              "      <th>['Sales/Retail', 'R&amp;D/Science', 'Medical/Healthcare']</th>\n",
              "      <th>['Sales/Retail', 'Tourism/Travel']</th>\n",
              "      <th>['Sales/Retail', 'Training/Instructor']</th>\n",
              "      <th>['Sales/Retail']</th>\n",
              "      <th>['Sports and Leisure', 'Education/Teaching']</th>\n",
              "      <th>['Strategy/Consulting', 'Accounting/Finance']</th>\n",
              "      <th>['Strategy/Consulting', 'IT/Software Development', 'Engineering - Telecom/Technology']</th>\n",
              "      <th>['Tourism/Travel', 'Customer Service/Support', 'Sales/Retail']</th>\n",
              "      <th>['Tourism/Travel', 'Customer Service/Support']</th>\n",
              "      <th>['Tourism/Travel', 'Operations/Management']</th>\n",
              "      <th>['Tourism/Travel', 'Sales/Retail', 'Customer Service/Support']</th>\n",
              "      <th>['Tourism/Travel']</th>\n",
              "      <th>['Training/Instructor', 'Creative/Design/Art']</th>\n",
              "      <th>['Training/Instructor', 'Education/Teaching', 'IT/Software Development']</th>\n",
              "      <th>['Training/Instructor', 'Education/Teaching']</th>\n",
              "      <th>['Training/Instructor', 'Engineering - Telecom/Technology', 'IT/Software Development']</th>\n",
              "      <th>['Training/Instructor', 'IT/Software Development']</th>\n",
              "      <th>['Training/Instructor', 'Marketing/PR/Advertising']</th>\n",
              "      <th>['Training/Instructor', 'Medical/Healthcare', 'Education/Teaching']</th>\n",
              "      <th>['Training/Instructor', 'Operations/Management', 'Education/Teaching']</th>\n",
              "      <th>['Training/Instructor', 'Sales/Retail']</th>\n",
              "      <th>['Training/Instructor']</th>\n",
              "      <th>['Writing/Editorial', 'Education/Teaching', 'Medical/Healthcare']</th>\n",
              "      <th>['Writing/Editorial', 'Education/Teaching']</th>\n",
              "      <th>['Writing/Editorial', 'IT/Software Development', 'Engineering - Telecom/Technology']</th>\n",
              "      <th>['Writing/Editorial', 'Marketing/PR/Advertising', 'Creative/Design/Art']</th>\n",
              "      <th>['Writing/Editorial', 'Marketing/PR/Advertising', 'Media/Journalism/Publishing']</th>\n",
              "      <th>['Writing/Editorial', 'Marketing/PR/Advertising']</th>\n",
              "      <th>['Writing/Editorial', 'Media/Journalism/Publishing', 'Marketing/PR/Advertising']</th>\n",
              "      <th>['Writing/Editorial', 'Media/Journalism/Publishing']</th>\n",
              "      <th>['Writing/Editorial', 'Medical/Healthcare', 'Media/Journalism/Publishing']</th>\n",
              "      <th>['Writing/Editorial', 'Quality', 'Customer Service/Support']</th>\n",
              "      <th>['Writing/Editorial', 'R&amp;D/Science']</th>\n",
              "      <th>['Writing/Editorial']</th>\n",
              "      <th>['nan']</th>\n",
              "    </tr>\n",
              "  </thead>\n",
              "  <tbody>\n",
              "    <tr>\n",
              "      <th>0</th>\n",
              "      <td>0</td>\n",
              "      <td>full stack php developer</td>\n",
              "      <td>['Engineering - Telecom/Technology', 'IT/Softw...</td>\n",
              "      <td>['Computer Software', 'Marketing and Advertisi...</td>\n",
              "      <td>0</td>\n",
              "      <td>0</td>\n",
              "      <td>0</td>\n",
              "      <td>0</td>\n",
              "      <td>0</td>\n",
              "      <td>0</td>\n",
              "      <td>0</td>\n",
              "      <td>0</td>\n",
              "      <td>0</td>\n",
              "      <td>0</td>\n",
              "      <td>0</td>\n",
              "      <td>0</td>\n",
              "      <td>0</td>\n",
              "      <td>0</td>\n",
              "      <td>0</td>\n",
              "      <td>0</td>\n",
              "      <td>0</td>\n",
              "      <td>0</td>\n",
              "      <td>0</td>\n",
              "      <td>0</td>\n",
              "      <td>0</td>\n",
              "      <td>0</td>\n",
              "      <td>0</td>\n",
              "      <td>0</td>\n",
              "      <td>0</td>\n",
              "      <td>0</td>\n",
              "      <td>0</td>\n",
              "      <td>0</td>\n",
              "      <td>0</td>\n",
              "      <td>0</td>\n",
              "      <td>0</td>\n",
              "      <td>0</td>\n",
              "      <td>0</td>\n",
              "      <td>0</td>\n",
              "      <td>0</td>\n",
              "      <td>0</td>\n",
              "      <td>...</td>\n",
              "      <td>0</td>\n",
              "      <td>0</td>\n",
              "      <td>0</td>\n",
              "      <td>0</td>\n",
              "      <td>0</td>\n",
              "      <td>0</td>\n",
              "      <td>0</td>\n",
              "      <td>0</td>\n",
              "      <td>0</td>\n",
              "      <td>0</td>\n",
              "      <td>0</td>\n",
              "      <td>0</td>\n",
              "      <td>0</td>\n",
              "      <td>0</td>\n",
              "      <td>0</td>\n",
              "      <td>0</td>\n",
              "      <td>0</td>\n",
              "      <td>0</td>\n",
              "      <td>0</td>\n",
              "      <td>0</td>\n",
              "      <td>0</td>\n",
              "      <td>0</td>\n",
              "      <td>0</td>\n",
              "      <td>0</td>\n",
              "      <td>0</td>\n",
              "      <td>0</td>\n",
              "      <td>0</td>\n",
              "      <td>0</td>\n",
              "      <td>0</td>\n",
              "      <td>0</td>\n",
              "      <td>0</td>\n",
              "      <td>0</td>\n",
              "      <td>0</td>\n",
              "      <td>0</td>\n",
              "      <td>0</td>\n",
              "      <td>0</td>\n",
              "      <td>0</td>\n",
              "      <td>0</td>\n",
              "      <td>0</td>\n",
              "      <td>0</td>\n",
              "    </tr>\n",
              "    <tr>\n",
              "      <th>1</th>\n",
              "      <td>1</td>\n",
              "      <td>cisco collaboration specialist engineer</td>\n",
              "      <td>['Installation/Maintenance/Repair', 'IT/Softwa...</td>\n",
              "      <td>['Information Technology Services']</td>\n",
              "      <td>0</td>\n",
              "      <td>0</td>\n",
              "      <td>0</td>\n",
              "      <td>0</td>\n",
              "      <td>0</td>\n",
              "      <td>0</td>\n",
              "      <td>0</td>\n",
              "      <td>0</td>\n",
              "      <td>0</td>\n",
              "      <td>0</td>\n",
              "      <td>0</td>\n",
              "      <td>0</td>\n",
              "      <td>0</td>\n",
              "      <td>0</td>\n",
              "      <td>0</td>\n",
              "      <td>0</td>\n",
              "      <td>0</td>\n",
              "      <td>0</td>\n",
              "      <td>0</td>\n",
              "      <td>0</td>\n",
              "      <td>0</td>\n",
              "      <td>0</td>\n",
              "      <td>0</td>\n",
              "      <td>0</td>\n",
              "      <td>0</td>\n",
              "      <td>0</td>\n",
              "      <td>0</td>\n",
              "      <td>0</td>\n",
              "      <td>0</td>\n",
              "      <td>0</td>\n",
              "      <td>0</td>\n",
              "      <td>0</td>\n",
              "      <td>0</td>\n",
              "      <td>0</td>\n",
              "      <td>0</td>\n",
              "      <td>0</td>\n",
              "      <td>...</td>\n",
              "      <td>0</td>\n",
              "      <td>0</td>\n",
              "      <td>0</td>\n",
              "      <td>0</td>\n",
              "      <td>0</td>\n",
              "      <td>0</td>\n",
              "      <td>0</td>\n",
              "      <td>0</td>\n",
              "      <td>0</td>\n",
              "      <td>0</td>\n",
              "      <td>0</td>\n",
              "      <td>0</td>\n",
              "      <td>0</td>\n",
              "      <td>0</td>\n",
              "      <td>0</td>\n",
              "      <td>0</td>\n",
              "      <td>0</td>\n",
              "      <td>0</td>\n",
              "      <td>0</td>\n",
              "      <td>0</td>\n",
              "      <td>0</td>\n",
              "      <td>0</td>\n",
              "      <td>0</td>\n",
              "      <td>0</td>\n",
              "      <td>0</td>\n",
              "      <td>0</td>\n",
              "      <td>0</td>\n",
              "      <td>0</td>\n",
              "      <td>0</td>\n",
              "      <td>0</td>\n",
              "      <td>0</td>\n",
              "      <td>0</td>\n",
              "      <td>0</td>\n",
              "      <td>0</td>\n",
              "      <td>0</td>\n",
              "      <td>0</td>\n",
              "      <td>0</td>\n",
              "      <td>0</td>\n",
              "      <td>0</td>\n",
              "      <td>0</td>\n",
              "    </tr>\n",
              "    <tr>\n",
              "      <th>2</th>\n",
              "      <td>2</td>\n",
              "      <td>senior back end php developer</td>\n",
              "      <td>['Engineering - Telecom/Technology', 'IT/Softw...</td>\n",
              "      <td>['Computer Software', 'Computer Networking']</td>\n",
              "      <td>0</td>\n",
              "      <td>0</td>\n",
              "      <td>0</td>\n",
              "      <td>0</td>\n",
              "      <td>0</td>\n",
              "      <td>0</td>\n",
              "      <td>0</td>\n",
              "      <td>0</td>\n",
              "      <td>0</td>\n",
              "      <td>0</td>\n",
              "      <td>0</td>\n",
              "      <td>0</td>\n",
              "      <td>0</td>\n",
              "      <td>0</td>\n",
              "      <td>0</td>\n",
              "      <td>0</td>\n",
              "      <td>0</td>\n",
              "      <td>0</td>\n",
              "      <td>0</td>\n",
              "      <td>0</td>\n",
              "      <td>0</td>\n",
              "      <td>0</td>\n",
              "      <td>0</td>\n",
              "      <td>0</td>\n",
              "      <td>0</td>\n",
              "      <td>0</td>\n",
              "      <td>0</td>\n",
              "      <td>0</td>\n",
              "      <td>0</td>\n",
              "      <td>0</td>\n",
              "      <td>0</td>\n",
              "      <td>0</td>\n",
              "      <td>0</td>\n",
              "      <td>0</td>\n",
              "      <td>0</td>\n",
              "      <td>0</td>\n",
              "      <td>...</td>\n",
              "      <td>0</td>\n",
              "      <td>0</td>\n",
              "      <td>0</td>\n",
              "      <td>0</td>\n",
              "      <td>0</td>\n",
              "      <td>0</td>\n",
              "      <td>0</td>\n",
              "      <td>0</td>\n",
              "      <td>0</td>\n",
              "      <td>0</td>\n",
              "      <td>0</td>\n",
              "      <td>0</td>\n",
              "      <td>0</td>\n",
              "      <td>0</td>\n",
              "      <td>0</td>\n",
              "      <td>0</td>\n",
              "      <td>0</td>\n",
              "      <td>0</td>\n",
              "      <td>0</td>\n",
              "      <td>0</td>\n",
              "      <td>0</td>\n",
              "      <td>0</td>\n",
              "      <td>0</td>\n",
              "      <td>0</td>\n",
              "      <td>0</td>\n",
              "      <td>0</td>\n",
              "      <td>0</td>\n",
              "      <td>0</td>\n",
              "      <td>0</td>\n",
              "      <td>0</td>\n",
              "      <td>0</td>\n",
              "      <td>0</td>\n",
              "      <td>0</td>\n",
              "      <td>0</td>\n",
              "      <td>0</td>\n",
              "      <td>0</td>\n",
              "      <td>0</td>\n",
              "      <td>0</td>\n",
              "      <td>0</td>\n",
              "      <td>0</td>\n",
              "    </tr>\n",
              "    <tr>\n",
              "      <th>3</th>\n",
              "      <td>3</td>\n",
              "      <td>ux designer</td>\n",
              "      <td>['Creative/Design/Art', 'IT/Software Developme...</td>\n",
              "      <td>['Computer Software', 'Information Technology ...</td>\n",
              "      <td>0</td>\n",
              "      <td>0</td>\n",
              "      <td>0</td>\n",
              "      <td>0</td>\n",
              "      <td>0</td>\n",
              "      <td>0</td>\n",
              "      <td>0</td>\n",
              "      <td>0</td>\n",
              "      <td>0</td>\n",
              "      <td>0</td>\n",
              "      <td>0</td>\n",
              "      <td>0</td>\n",
              "      <td>0</td>\n",
              "      <td>0</td>\n",
              "      <td>0</td>\n",
              "      <td>0</td>\n",
              "      <td>0</td>\n",
              "      <td>0</td>\n",
              "      <td>0</td>\n",
              "      <td>0</td>\n",
              "      <td>0</td>\n",
              "      <td>0</td>\n",
              "      <td>0</td>\n",
              "      <td>0</td>\n",
              "      <td>0</td>\n",
              "      <td>0</td>\n",
              "      <td>0</td>\n",
              "      <td>0</td>\n",
              "      <td>0</td>\n",
              "      <td>0</td>\n",
              "      <td>0</td>\n",
              "      <td>0</td>\n",
              "      <td>0</td>\n",
              "      <td>0</td>\n",
              "      <td>0</td>\n",
              "      <td>0</td>\n",
              "      <td>...</td>\n",
              "      <td>0</td>\n",
              "      <td>0</td>\n",
              "      <td>0</td>\n",
              "      <td>0</td>\n",
              "      <td>0</td>\n",
              "      <td>0</td>\n",
              "      <td>0</td>\n",
              "      <td>0</td>\n",
              "      <td>0</td>\n",
              "      <td>0</td>\n",
              "      <td>0</td>\n",
              "      <td>0</td>\n",
              "      <td>0</td>\n",
              "      <td>0</td>\n",
              "      <td>0</td>\n",
              "      <td>0</td>\n",
              "      <td>0</td>\n",
              "      <td>0</td>\n",
              "      <td>0</td>\n",
              "      <td>0</td>\n",
              "      <td>0</td>\n",
              "      <td>0</td>\n",
              "      <td>0</td>\n",
              "      <td>0</td>\n",
              "      <td>0</td>\n",
              "      <td>0</td>\n",
              "      <td>0</td>\n",
              "      <td>0</td>\n",
              "      <td>0</td>\n",
              "      <td>0</td>\n",
              "      <td>0</td>\n",
              "      <td>0</td>\n",
              "      <td>0</td>\n",
              "      <td>0</td>\n",
              "      <td>0</td>\n",
              "      <td>0</td>\n",
              "      <td>0</td>\n",
              "      <td>0</td>\n",
              "      <td>0</td>\n",
              "      <td>0</td>\n",
              "    </tr>\n",
              "    <tr>\n",
              "      <th>4</th>\n",
              "      <td>4</td>\n",
              "      <td>java technical lead</td>\n",
              "      <td>['Engineering - Telecom/Technology', 'IT/Softw...</td>\n",
              "      <td>['Computer Software', 'Information Technology ...</td>\n",
              "      <td>0</td>\n",
              "      <td>0</td>\n",
              "      <td>0</td>\n",
              "      <td>0</td>\n",
              "      <td>0</td>\n",
              "      <td>0</td>\n",
              "      <td>0</td>\n",
              "      <td>0</td>\n",
              "      <td>0</td>\n",
              "      <td>0</td>\n",
              "      <td>0</td>\n",
              "      <td>0</td>\n",
              "      <td>0</td>\n",
              "      <td>0</td>\n",
              "      <td>0</td>\n",
              "      <td>0</td>\n",
              "      <td>0</td>\n",
              "      <td>0</td>\n",
              "      <td>0</td>\n",
              "      <td>0</td>\n",
              "      <td>0</td>\n",
              "      <td>0</td>\n",
              "      <td>0</td>\n",
              "      <td>0</td>\n",
              "      <td>0</td>\n",
              "      <td>0</td>\n",
              "      <td>0</td>\n",
              "      <td>0</td>\n",
              "      <td>0</td>\n",
              "      <td>0</td>\n",
              "      <td>0</td>\n",
              "      <td>0</td>\n",
              "      <td>0</td>\n",
              "      <td>0</td>\n",
              "      <td>0</td>\n",
              "      <td>0</td>\n",
              "      <td>...</td>\n",
              "      <td>0</td>\n",
              "      <td>0</td>\n",
              "      <td>0</td>\n",
              "      <td>0</td>\n",
              "      <td>0</td>\n",
              "      <td>0</td>\n",
              "      <td>0</td>\n",
              "      <td>0</td>\n",
              "      <td>0</td>\n",
              "      <td>0</td>\n",
              "      <td>0</td>\n",
              "      <td>0</td>\n",
              "      <td>0</td>\n",
              "      <td>0</td>\n",
              "      <td>0</td>\n",
              "      <td>0</td>\n",
              "      <td>0</td>\n",
              "      <td>0</td>\n",
              "      <td>0</td>\n",
              "      <td>0</td>\n",
              "      <td>0</td>\n",
              "      <td>0</td>\n",
              "      <td>0</td>\n",
              "      <td>0</td>\n",
              "      <td>0</td>\n",
              "      <td>0</td>\n",
              "      <td>0</td>\n",
              "      <td>0</td>\n",
              "      <td>0</td>\n",
              "      <td>0</td>\n",
              "      <td>0</td>\n",
              "      <td>0</td>\n",
              "      <td>0</td>\n",
              "      <td>0</td>\n",
              "      <td>0</td>\n",
              "      <td>0</td>\n",
              "      <td>0</td>\n",
              "      <td>0</td>\n",
              "      <td>0</td>\n",
              "      <td>0</td>\n",
              "    </tr>\n",
              "  </tbody>\n",
              "</table>\n",
              "<p>5 rows × 840 columns</p>\n",
              "</div>"
            ],
            "text/plain": [
              "   Unnamed: 0  ... ['nan']\n",
              "0           0  ...       0\n",
              "1           1  ...       0\n",
              "2           2  ...       0\n",
              "3           3  ...       0\n",
              "4           4  ...       0\n",
              "\n",
              "[5 rows x 840 columns]"
            ]
          },
          "metadata": {
            "tags": []
          },
          "execution_count": 49
        }
      ]
    },
    {
      "cell_type": "code",
      "metadata": {
        "colab_type": "code",
        "id": "88o9AZk5pIYO",
        "colab": {}
      },
      "source": [
        "## rempve nan column\n",
        "df_out=df_out.iloc[:,0:-1]"
      ],
      "execution_count": 0,
      "outputs": []
    },
    {
      "cell_type": "code",
      "metadata": {
        "colab_type": "code",
        "id": "7hvtPwtO23TN",
        "colab": {}
      },
      "source": [
        "### split data to inputs(x)  and outputs(y)\n",
        "x=df_out['title']\n",
        "y=df_out.iloc[:,4:]\n"
      ],
      "execution_count": 0,
      "outputs": []
    },
    {
      "cell_type": "code",
      "metadata": {
        "colab_type": "code",
        "id": "pg6ceqZJn3Bv",
        "colab": {}
      },
      "source": [
        "##split data \n",
        "x_train,x_test,y_train,y_test=train_test_split(x,y,test_size=0.2,shuffle=True)"
      ],
      "execution_count": 0,
      "outputs": []
    },
    {
      "cell_type": "code",
      "metadata": {
        "colab_type": "code",
        "id": "a5N5_i4-2461",
        "outputId": "9da6cb98-6eb7-4684-b58a-4b8147dfd1fd",
        "colab": {
          "base_uri": "https://localhost:8080/",
          "height": 35
        }
      },
      "source": [
        "### output shape \n",
        "y.shape"
      ],
      "execution_count": 54,
      "outputs": [
        {
          "output_type": "execute_result",
          "data": {
            "text/plain": [
              "(10870, 835)"
            ]
          },
          "metadata": {
            "tags": []
          },
          "execution_count": 54
        }
      ]
    },
    {
      "cell_type": "code",
      "metadata": {
        "id": "Sagq5jhCC4Hh",
        "colab_type": "code",
        "colab": {}
      },
      "source": [
        "#### convert input text to vectors using TfidfVectorizer\n",
        "tfid=TfidfVectorizer()\n",
        "x_train_tfid=tfid.fit_transform(x_train)\n",
        "x_test_tfid=tfid.transform(x_test)"
      ],
      "execution_count": 0,
      "outputs": []
    },
    {
      "cell_type": "code",
      "metadata": {
        "id": "_cBixPMrC4Hn",
        "colab_type": "code",
        "colab": {}
      },
      "source": [
        "## pickle TfidfVectorizer\n",
        "import pickle \n",
        "with open('TfidfVectorizer.pkl','wb') as f:\n",
        "    pickle.dump(tfid,f)\n"
      ],
      "execution_count": 0,
      "outputs": []
    },
    {
      "cell_type": "code",
      "metadata": {
        "id": "tBtgCdqQC4Hs",
        "colab_type": "code",
        "colab": {}
      },
      "source": [
        "### try MultinomialNB classifier \n",
        "cls=OneVsRestClassifier(MultinomialNB())\n",
        "cls.fit(x_train_tfid,y_train)"
      ],
      "execution_count": 0,
      "outputs": []
    },
    {
      "cell_type": "code",
      "metadata": {
        "id": "Y2PxsTzyC4Hy",
        "colab_type": "code",
        "colab": {}
      },
      "source": [
        "### use MultinomialNB to predict x_test \n",
        "predicted=cls.predict(x_test_tfid)"
      ],
      "execution_count": 0,
      "outputs": []
    },
    {
      "cell_type": "code",
      "metadata": {
        "id": "L6uxRbXxC4H4",
        "colab_type": "code",
        "colab": {
          "base_uri": "https://localhost:8080/",
          "height": 35
        },
        "outputId": "043fe3c3-9320-4ac2-c1dd-6f783ad48444"
      },
      "source": [
        "from sklearn.metrics import accuracy_score\n",
        "acc=accuracy_score(y_test,predicted)\n",
        "\n",
        "print('MultinomialNB Classifier Accuracy is : {}'.format(acc))"
      ],
      "execution_count": 58,
      "outputs": [
        {
          "output_type": "stream",
          "text": [
            "MultinomialNB Classifier Accuracy is : 0.16651333946642136\n"
          ],
          "name": "stdout"
        }
      ]
    },
    {
      "cell_type": "code",
      "metadata": {
        "id": "fb-vjICgC4IG",
        "colab_type": "code",
        "colab": {}
      },
      "source": [
        "##try randomforest  classifier \n",
        "from sklearn.ensemble import RandomForestClassifier\n",
        "forest = OneVsRestClassifier(RandomForestClassifier(25))\n",
        "forest.fit(x_train_tfid,y_train)"
      ],
      "execution_count": 0,
      "outputs": []
    },
    {
      "cell_type": "code",
      "metadata": {
        "id": "YGlAQDlsC4IW",
        "colab_type": "code",
        "colab": {
          "base_uri": "https://localhost:8080/",
          "height": 35
        },
        "outputId": "617fdd7e-50f3-4c32-8a54-b00310b98a01"
      },
      "source": [
        "##use randomforest classifier to predict x_test \n",
        "pred=forest.predict(x_test_tfid)\n",
        "acc=accuracy_score(y_test,pred)\n",
        "print('RandomForest Classifier Accuracy is : {}'.format(acc))"
      ],
      "execution_count": 60,
      "outputs": [
        {
          "output_type": "stream",
          "text": [
            "RandomForest Classifier Accuracy is : 0.4107635694572217\n"
          ],
          "name": "stdout"
        }
      ]
    },
    {
      "cell_type": "code",
      "metadata": {
        "id": "83PSYtPsC4Ir",
        "colab_type": "code",
        "colab": {}
      },
      "source": [
        "### try support vector Classifier \n",
        "from sklearn.svm import SVC # \"Support vector classifier\"\n",
        "from sklearn.multiclass import OneVsRestClassifier\n",
        "svc = OneVsRestClassifier(SVC(kernel='rbf'))\n",
        "svc.fit(x_train_tfid, y_train)"
      ],
      "execution_count": 0,
      "outputs": []
    },
    {
      "cell_type": "code",
      "metadata": {
        "id": "VEm5pivNC4Iv",
        "colab_type": "code",
        "colab": {
          "base_uri": "https://localhost:8080/",
          "height": 54
        },
        "outputId": "85d83d4e-5855-4f0a-ebe6-ccd10280c631"
      },
      "source": [
        "pred=svc.predict(x_test_tfid)\n",
        "acc=accuracy_score(y_test,pred)\n",
        "print('Support Vector Classifier Accuracy is :'.format(acc))\n",
        "acc\n"
      ],
      "execution_count": 63,
      "outputs": [
        {
          "output_type": "stream",
          "text": [
            "Support Vector Classifier Accuracy is :\n"
          ],
          "name": "stdout"
        },
        {
          "output_type": "execute_result",
          "data": {
            "text/plain": [
              "0.013339466421343146"
            ]
          },
          "metadata": {
            "tags": []
          },
          "execution_count": 63
        }
      ]
    },
    {
      "cell_type": "markdown",
      "metadata": {
        "id": "ev80lQNyC4Iz",
        "colab_type": "text"
      },
      "source": [
        "# deep learning model "
      ]
    },
    {
      "cell_type": "code",
      "metadata": {
        "id": "epb8prRDSxAQ",
        "colab_type": "code",
        "colab": {}
      },
      "source": [
        "from sklearn.utils import class_weight"
      ],
      "execution_count": 0,
      "outputs": []
    },
    {
      "cell_type": "code",
      "metadata": {
        "id": "urQSAHFiSw5b",
        "colab_type": "code",
        "colab": {}
      },
      "source": [
        "class_weights = class_weight.compute_class_weight('balanced',\n",
        "                                                 np.unique(data['jobFunction'].values),\n",
        "                                                 data['jobFunction'].values)"
      ],
      "execution_count": 0,
      "outputs": []
    },
    {
      "cell_type": "code",
      "metadata": {
        "colab_type": "code",
        "id": "DX0rCF8sAZRQ",
        "colab": {}
      },
      "source": [
        "### use tokenizier to convert inputs to sequences\n",
        "from keras_preprocessing.text import Tokenizer\n",
        "token=Tokenizer(num_words=1000)\n",
        "token.fit_on_texts(x)"
      ],
      "execution_count": 0,
      "outputs": []
    },
    {
      "cell_type": "code",
      "metadata": {
        "colab_type": "code",
        "id": "12cNqHoaBWzD",
        "colab": {}
      },
      "source": [
        "train_sequences=token.texts_to_sequences(x_train)\n",
        "test_sequences=token.texts_to_sequences(x_test)"
      ],
      "execution_count": 0,
      "outputs": []
    },
    {
      "cell_type": "code",
      "metadata": {
        "colab_type": "code",
        "id": "hEx77BOzBdvz",
        "outputId": "7cade5ef-ac7a-4858-c70d-f2778bbaf6e3",
        "colab": {
          "base_uri": "https://localhost:8080/",
          "height": 35
        }
      },
      "source": [
        "train_sequences[5]"
      ],
      "execution_count": 66,
      "outputs": [
        {
          "output_type": "execute_result",
          "data": {
            "text/plain": [
              "[23, 10]"
            ]
          },
          "metadata": {
            "tags": []
          },
          "execution_count": 66
        }
      ]
    },
    {
      "cell_type": "code",
      "metadata": {
        "id": "W-SJ_u6uC4JI",
        "colab_type": "code",
        "colab": {}
      },
      "source": [
        "import pickle \n",
        "with open('Tokenizer.pkl','wb') as f:\n",
        "    pickle.dump(token,f)"
      ],
      "execution_count": 0,
      "outputs": []
    },
    {
      "cell_type": "code",
      "metadata": {
        "colab_type": "code",
        "id": "xo6sUepQBf8L",
        "colab": {
          "base_uri": "https://localhost:8080/",
          "height": 83
        },
        "outputId": "10c5d40b-2296-4af8-edff-40a84a7898d7"
      },
      "source": [
        "### pad sequences to make all sequences with the same length \n",
        "from keras.preprocessing.sequence import pad_sequences\n",
        "x_train_padded=pad_sequences(train_sequences,maxlen=6,padding='post')\n",
        "x_test_padded=pad_sequences(test_sequences,maxlen=6,padding='post')"
      ],
      "execution_count": 68,
      "outputs": [
        {
          "output_type": "stream",
          "text": [
            "Using TensorFlow backend.\n"
          ],
          "name": "stderr"
        },
        {
          "output_type": "display_data",
          "data": {
            "text/html": [
              "<p style=\"color: red;\">\n",
              "The default version of TensorFlow in Colab will soon switch to TensorFlow 2.x.<br>\n",
              "We recommend you <a href=\"https://www.tensorflow.org/guide/migrate\" target=\"_blank\">upgrade</a> now \n",
              "or ensure your notebook will continue to use TensorFlow 1.x via the <code>%tensorflow_version 1.x</code> magic:\n",
              "<a href=\"https://colab.research.google.com/notebooks/tensorflow_version.ipynb\" target=\"_blank\">more info</a>.</p>\n"
            ],
            "text/plain": [
              "<IPython.core.display.HTML object>"
            ]
          },
          "metadata": {
            "tags": []
          }
        }
      ]
    },
    {
      "cell_type": "code",
      "metadata": {
        "colab_type": "code",
        "id": "189IyLtoB1wE",
        "outputId": "a996de2d-9703-48c3-d980-facda2cd3977",
        "colab": {
          "base_uri": "https://localhost:8080/",
          "height": 35
        }
      },
      "source": [
        "x_train_padded[4]"
      ],
      "execution_count": 69,
      "outputs": [
        {
          "output_type": "execute_result",
          "data": {
            "text/plain": [
              "array([ 31,  25,   9, 215,   0,   0], dtype=int32)"
            ]
          },
          "metadata": {
            "tags": []
          },
          "execution_count": 69
        }
      ]
    },
    {
      "cell_type": "code",
      "metadata": {
        "colab_type": "code",
        "id": "Bys0krmUB4Ke",
        "colab": {}
      },
      "source": [
        "## deep learning model \n",
        "import keras\n",
        "model=keras.models.Sequential()\n",
        "model.add(keras.layers.Embedding(1000,300,input_length=6))\n",
        "model.add(keras.layers.LSTM(units=32,return_sequences=True))\n",
        "model.add(keras.layers.LSTM(units=64))\n",
        "#model.add(keras.layers.Flatten())\n",
        "#model.add(keras.layers.Dense(units=64,activation='relu'))\n",
        "#model.add(keras.layers.Dropout(.2))\n",
        "#model.add(keras.layers.Dense(units=128,activation='relu'))\n",
        "#model.add(keras.layers.Dropout(.2))\n",
        "#model.add(keras.layers.Dense(units=512,activation='relu'))\n",
        "#model.add(keras.layers.Dropout(.2))\n",
        "model.add(keras.layers.Dense(units=512,activation='relu'))\n",
        "model.add(keras.layers.Dense(units=835 ,activation='softmax'))\n",
        "\n",
        "model.compile(optimizer='rmsprop',loss='categorical_crossentropy',metrics=['accuracy'])\n"
      ],
      "execution_count": 0,
      "outputs": []
    },
    {
      "cell_type": "code",
      "metadata": {
        "colab_type": "code",
        "id": "L7tLko3bC3wp",
        "outputId": "ec7f9e59-63f7-474c-e180-0ce20f70bfb1",
        "colab": {
          "base_uri": "https://localhost:8080/",
          "height": 1000
        }
      },
      "source": [
        "model.fit(x_train_padded,y_train,epochs=100,validation_data=(x_test_padded,y_test),class_weight=class_weights)"
      ],
      "execution_count": 110,
      "outputs": [
        {
          "output_type": "stream",
          "text": [
            "Train on 8696 samples, validate on 2174 samples\n",
            "Epoch 1/100\n",
            "8696/8696 [==============================] - 14s 2ms/step - loss: 4.3577 - acc: 0.1495 - val_loss: 3.8439 - val_acc: 0.1780\n",
            "Epoch 2/100\n",
            "8696/8696 [==============================] - 9s 992us/step - loss: 3.5850 - acc: 0.2544 - val_loss: 3.3660 - val_acc: 0.3086\n",
            "Epoch 3/100\n",
            "8696/8696 [==============================] - 9s 1ms/step - loss: 3.1326 - acc: 0.3352 - val_loss: 3.0272 - val_acc: 0.3579\n",
            "Epoch 4/100\n",
            "8696/8696 [==============================] - 9s 997us/step - loss: 2.8455 - acc: 0.3774 - val_loss: 2.8276 - val_acc: 0.3809\n",
            "Epoch 5/100\n",
            "8696/8696 [==============================] - 9s 991us/step - loss: 2.6592 - acc: 0.4012 - val_loss: 2.6973 - val_acc: 0.3924\n",
            "Epoch 6/100\n",
            "8696/8696 [==============================] - 9s 980us/step - loss: 2.5358 - acc: 0.4111 - val_loss: 2.6330 - val_acc: 0.4062\n",
            "Epoch 7/100\n",
            "8696/8696 [==============================] - 9s 989us/step - loss: 2.4377 - acc: 0.4204 - val_loss: 2.5833 - val_acc: 0.4052\n",
            "Epoch 8/100\n",
            "8696/8696 [==============================] - 8s 972us/step - loss: 2.3609 - acc: 0.4286 - val_loss: 2.5262 - val_acc: 0.4223\n",
            "Epoch 9/100\n",
            "8696/8696 [==============================] - 9s 978us/step - loss: 2.2938 - acc: 0.4399 - val_loss: 2.4975 - val_acc: 0.4232\n",
            "Epoch 10/100\n",
            "8696/8696 [==============================] - 9s 979us/step - loss: 2.2327 - acc: 0.4465 - val_loss: 2.4467 - val_acc: 0.4278\n",
            "Epoch 11/100\n",
            "8696/8696 [==============================] - 9s 983us/step - loss: 2.1875 - acc: 0.4500 - val_loss: 2.4249 - val_acc: 0.4342\n",
            "Epoch 12/100\n",
            "8696/8696 [==============================] - 9s 1ms/step - loss: 2.1333 - acc: 0.4556 - val_loss: 2.3851 - val_acc: 0.4273\n",
            "Epoch 13/100\n",
            "8696/8696 [==============================] - 9s 980us/step - loss: 2.0912 - acc: 0.4653 - val_loss: 2.3807 - val_acc: 0.4342\n",
            "Epoch 14/100\n",
            "8696/8696 [==============================] - 9s 980us/step - loss: 2.0499 - acc: 0.4707 - val_loss: 2.3454 - val_acc: 0.4430\n",
            "Epoch 15/100\n",
            "8696/8696 [==============================] - 8s 972us/step - loss: 2.0108 - acc: 0.4775 - val_loss: 2.3897 - val_acc: 0.4370\n",
            "Epoch 16/100\n",
            "8696/8696 [==============================] - 9s 982us/step - loss: 1.9714 - acc: 0.4837 - val_loss: 2.3449 - val_acc: 0.4508\n",
            "Epoch 17/100\n",
            "8696/8696 [==============================] - 9s 990us/step - loss: 1.9280 - acc: 0.4905 - val_loss: 2.3243 - val_acc: 0.4549\n",
            "Epoch 18/100\n",
            "8696/8696 [==============================] - 8s 974us/step - loss: 1.8914 - acc: 0.4956 - val_loss: 2.3154 - val_acc: 0.4581\n",
            "Epoch 19/100\n",
            "8696/8696 [==============================] - 9s 980us/step - loss: 1.8543 - acc: 0.5032 - val_loss: 2.3344 - val_acc: 0.4572\n",
            "Epoch 20/100\n",
            "8696/8696 [==============================] - 9s 980us/step - loss: 1.8107 - acc: 0.5071 - val_loss: 2.3056 - val_acc: 0.4618\n",
            "Epoch 21/100\n",
            "8696/8696 [==============================] - 8s 974us/step - loss: 1.7752 - acc: 0.5137 - val_loss: 2.3176 - val_acc: 0.4650\n",
            "Epoch 22/100\n",
            "8696/8696 [==============================] - 9s 981us/step - loss: 1.7530 - acc: 0.5212 - val_loss: 2.3390 - val_acc: 0.4655\n",
            "Epoch 23/100\n",
            "8696/8696 [==============================] - 9s 984us/step - loss: 1.7317 - acc: 0.5207 - val_loss: 2.3477 - val_acc: 0.4609\n",
            "Epoch 24/100\n",
            "8696/8696 [==============================] - 9s 991us/step - loss: 1.6872 - acc: 0.5271 - val_loss: 2.3178 - val_acc: 0.4673\n",
            "Epoch 25/100\n",
            "8696/8696 [==============================] - 9s 982us/step - loss: 1.6365 - acc: 0.5333 - val_loss: 2.3130 - val_acc: 0.4581\n",
            "Epoch 26/100\n",
            "8696/8696 [==============================] - 9s 998us/step - loss: 1.6058 - acc: 0.5451 - val_loss: 2.3548 - val_acc: 0.4623\n",
            "Epoch 27/100\n",
            "8696/8696 [==============================] - 9s 986us/step - loss: 1.5919 - acc: 0.5434 - val_loss: 2.3610 - val_acc: 0.4701\n",
            "Epoch 28/100\n",
            "8696/8696 [==============================] - 9s 984us/step - loss: 1.5780 - acc: 0.5459 - val_loss: 2.4478 - val_acc: 0.4683\n",
            "Epoch 29/100\n",
            "8696/8696 [==============================] - 9s 986us/step - loss: 1.5687 - acc: 0.5521 - val_loss: 2.3285 - val_acc: 0.4614\n",
            "Epoch 30/100\n",
            "8696/8696 [==============================] - 9s 978us/step - loss: 1.5569 - acc: 0.5522 - val_loss: 2.3407 - val_acc: 0.4696\n",
            "Epoch 31/100\n",
            "8696/8696 [==============================] - 9s 994us/step - loss: 1.5314 - acc: 0.5540 - val_loss: 2.4024 - val_acc: 0.4761\n",
            "Epoch 32/100\n",
            "8696/8696 [==============================] - 9s 978us/step - loss: 1.5081 - acc: 0.5614 - val_loss: 2.3980 - val_acc: 0.4687\n",
            "Epoch 33/100\n",
            "8696/8696 [==============================] - 8s 970us/step - loss: 1.4961 - acc: 0.5561 - val_loss: 2.3308 - val_acc: 0.4678\n",
            "Epoch 34/100\n",
            "8696/8696 [==============================] - 8s 974us/step - loss: 1.4754 - acc: 0.5611 - val_loss: 2.3637 - val_acc: 0.4834\n",
            "Epoch 35/100\n",
            "8696/8696 [==============================] - 8s 972us/step - loss: 1.4618 - acc: 0.5713 - val_loss: 2.3550 - val_acc: 0.4678\n",
            "Epoch 36/100\n",
            "8696/8696 [==============================] - 8s 976us/step - loss: 1.4443 - acc: 0.5688 - val_loss: 2.3986 - val_acc: 0.4752\n",
            "Epoch 37/100\n",
            "8696/8696 [==============================] - 9s 978us/step - loss: 1.4286 - acc: 0.5662 - val_loss: 2.3483 - val_acc: 0.4775\n",
            "Epoch 38/100\n",
            "8696/8696 [==============================] - 8s 976us/step - loss: 1.4166 - acc: 0.5754 - val_loss: 2.3746 - val_acc: 0.4839\n",
            "Epoch 39/100\n",
            "8696/8696 [==============================] - 8s 976us/step - loss: 1.3985 - acc: 0.5687 - val_loss: 2.3235 - val_acc: 0.4614\n",
            "Epoch 40/100\n",
            "8696/8696 [==============================] - 8s 972us/step - loss: 1.3807 - acc: 0.5751 - val_loss: 2.3625 - val_acc: 0.4775\n",
            "Epoch 41/100\n",
            "8696/8696 [==============================] - 8s 972us/step - loss: 1.3530 - acc: 0.5799 - val_loss: 2.3304 - val_acc: 0.4848\n",
            "Epoch 42/100\n",
            "8696/8696 [==============================] - 8s 977us/step - loss: 1.3420 - acc: 0.5742 - val_loss: 2.4095 - val_acc: 0.4687\n",
            "Epoch 43/100\n",
            "8696/8696 [==============================] - 8s 975us/step - loss: 1.3345 - acc: 0.5851 - val_loss: 2.3966 - val_acc: 0.4825\n",
            "Epoch 44/100\n",
            "8696/8696 [==============================] - 8s 973us/step - loss: 1.3336 - acc: 0.5823 - val_loss: 2.3685 - val_acc: 0.4683\n",
            "Epoch 45/100\n",
            "8696/8696 [==============================] - 9s 981us/step - loss: 1.3210 - acc: 0.5860 - val_loss: 2.3237 - val_acc: 0.4618\n",
            "Epoch 46/100\n",
            "8696/8696 [==============================] - 9s 981us/step - loss: 1.3017 - acc: 0.5899 - val_loss: 2.2969 - val_acc: 0.4696\n",
            "Epoch 47/100\n",
            "8696/8696 [==============================] - 9s 980us/step - loss: 1.2852 - acc: 0.5854 - val_loss: 2.3084 - val_acc: 0.4844\n",
            "Epoch 48/100\n",
            "8696/8696 [==============================] - 9s 998us/step - loss: 1.2747 - acc: 0.5887 - val_loss: 2.3151 - val_acc: 0.4752\n",
            "Epoch 49/100\n",
            "8696/8696 [==============================] - 9s 992us/step - loss: 1.2632 - acc: 0.5890 - val_loss: 2.4265 - val_acc: 0.4733\n",
            "Epoch 50/100\n",
            "8696/8696 [==============================] - 9s 987us/step - loss: 1.2540 - acc: 0.5930 - val_loss: 2.3997 - val_acc: 0.4742\n",
            "Epoch 51/100\n",
            "8696/8696 [==============================] - 9s 985us/step - loss: 1.2472 - acc: 0.5965 - val_loss: 2.3986 - val_acc: 0.4687\n",
            "Epoch 52/100\n",
            "8696/8696 [==============================] - 9s 994us/step - loss: 1.2387 - acc: 0.5926 - val_loss: 2.4439 - val_acc: 0.4719\n",
            "Epoch 53/100\n",
            "8696/8696 [==============================] - 8s 972us/step - loss: 1.2326 - acc: 0.5981 - val_loss: 2.4596 - val_acc: 0.4673\n",
            "Epoch 54/100\n",
            "8696/8696 [==============================] - 8s 975us/step - loss: 1.2280 - acc: 0.5995 - val_loss: 2.4684 - val_acc: 0.4614\n",
            "Epoch 55/100\n",
            "8696/8696 [==============================] - 8s 976us/step - loss: 1.2208 - acc: 0.5992 - val_loss: 2.4238 - val_acc: 0.4742\n",
            "Epoch 56/100\n",
            "8696/8696 [==============================] - 8s 977us/step - loss: 1.2132 - acc: 0.5983 - val_loss: 2.4151 - val_acc: 0.4719\n",
            "Epoch 57/100\n",
            "8696/8696 [==============================] - 8s 974us/step - loss: 1.2012 - acc: 0.5982 - val_loss: 2.4630 - val_acc: 0.4673\n",
            "Epoch 58/100\n",
            "8696/8696 [==============================] - 8s 972us/step - loss: 1.1922 - acc: 0.6046 - val_loss: 2.4517 - val_acc: 0.4761\n",
            "Epoch 59/100\n",
            "8696/8696 [==============================] - 8s 974us/step - loss: 1.1786 - acc: 0.6035 - val_loss: 2.4250 - val_acc: 0.4807\n",
            "Epoch 60/100\n",
            "8696/8696 [==============================] - 9s 979us/step - loss: 1.1724 - acc: 0.6030 - val_loss: 2.4477 - val_acc: 0.4811\n",
            "Epoch 61/100\n",
            "8696/8696 [==============================] - 9s 980us/step - loss: 1.1571 - acc: 0.6048 - val_loss: 2.4583 - val_acc: 0.4807\n",
            "Epoch 62/100\n",
            "8696/8696 [==============================] - 8s 971us/step - loss: 1.1511 - acc: 0.6080 - val_loss: 2.4493 - val_acc: 0.4867\n",
            "Epoch 63/100\n",
            "8696/8696 [==============================] - 9s 983us/step - loss: 1.1431 - acc: 0.6052 - val_loss: 2.4269 - val_acc: 0.4696\n",
            "Epoch 64/100\n",
            "8696/8696 [==============================] - 8s 964us/step - loss: 1.1342 - acc: 0.6058 - val_loss: 2.4283 - val_acc: 0.4687\n",
            "Epoch 65/100\n",
            "8696/8696 [==============================] - 8s 976us/step - loss: 1.1239 - acc: 0.6126 - val_loss: 2.5299 - val_acc: 0.4729\n",
            "Epoch 66/100\n",
            "8696/8696 [==============================] - 9s 987us/step - loss: 1.1174 - acc: 0.6073 - val_loss: 2.4256 - val_acc: 0.4853\n",
            "Epoch 67/100\n",
            "8696/8696 [==============================] - 9s 993us/step - loss: 1.0981 - acc: 0.6122 - val_loss: 2.4323 - val_acc: 0.4733\n",
            "Epoch 68/100\n",
            "8696/8696 [==============================] - 8s 967us/step - loss: 1.0980 - acc: 0.6109 - val_loss: 2.4440 - val_acc: 0.4839\n",
            "Epoch 69/100\n",
            "8696/8696 [==============================] - 8s 964us/step - loss: 1.0900 - acc: 0.6132 - val_loss: 2.4992 - val_acc: 0.4673\n",
            "Epoch 70/100\n",
            "8696/8696 [==============================] - 8s 976us/step - loss: 1.0888 - acc: 0.6148 - val_loss: 2.4551 - val_acc: 0.4816\n",
            "Epoch 71/100\n",
            "8696/8696 [==============================] - 8s 972us/step - loss: 1.0825 - acc: 0.6145 - val_loss: 2.4896 - val_acc: 0.4770\n",
            "Epoch 72/100\n",
            "8696/8696 [==============================] - 8s 971us/step - loss: 1.0712 - acc: 0.6171 - val_loss: 2.4340 - val_acc: 0.4922\n",
            "Epoch 73/100\n",
            "8696/8696 [==============================] - 9s 981us/step - loss: 1.0656 - acc: 0.6171 - val_loss: 2.4839 - val_acc: 0.4784\n",
            "Epoch 74/100\n",
            "8696/8696 [==============================] - 8s 973us/step - loss: 1.0602 - acc: 0.6189 - val_loss: 2.4750 - val_acc: 0.4811\n",
            "Epoch 75/100\n",
            "8696/8696 [==============================] - 8s 965us/step - loss: 1.0535 - acc: 0.6178 - val_loss: 2.4792 - val_acc: 0.4779\n",
            "Epoch 76/100\n",
            "8696/8696 [==============================] - 8s 970us/step - loss: 1.0523 - acc: 0.6202 - val_loss: 2.4213 - val_acc: 0.4908\n",
            "Epoch 77/100\n",
            "8696/8696 [==============================] - 8s 975us/step - loss: 1.0470 - acc: 0.6216 - val_loss: 2.5255 - val_acc: 0.4913\n",
            "Epoch 78/100\n",
            "8696/8696 [==============================] - 9s 979us/step - loss: 1.0406 - acc: 0.6209 - val_loss: 2.4788 - val_acc: 0.4664\n",
            "Epoch 79/100\n",
            "8696/8696 [==============================] - 8s 967us/step - loss: 1.0419 - acc: 0.6228 - val_loss: 2.4586 - val_acc: 0.4641\n",
            "Epoch 80/100\n",
            "8696/8696 [==============================] - 9s 980us/step - loss: 1.0358 - acc: 0.6225 - val_loss: 2.4564 - val_acc: 0.4899\n",
            "Epoch 81/100\n",
            "8696/8696 [==============================] - 8s 976us/step - loss: 1.0292 - acc: 0.6226 - val_loss: 2.4324 - val_acc: 0.4756\n",
            "Epoch 82/100\n",
            "8696/8696 [==============================] - 8s 967us/step - loss: 1.0341 - acc: 0.6188 - val_loss: 2.5242 - val_acc: 0.4857\n",
            "Epoch 83/100\n",
            "8696/8696 [==============================] - 8s 973us/step - loss: 1.0232 - acc: 0.6212 - val_loss: 2.5196 - val_acc: 0.4719\n",
            "Epoch 84/100\n",
            "8696/8696 [==============================] - 9s 978us/step - loss: 1.0230 - acc: 0.6214 - val_loss: 2.5205 - val_acc: 0.4752\n",
            "Epoch 85/100\n",
            "8696/8696 [==============================] - 9s 1ms/step - loss: 1.0162 - acc: 0.6242 - val_loss: 2.4747 - val_acc: 0.4715\n",
            "Epoch 86/100\n",
            "8696/8696 [==============================] - 8s 976us/step - loss: 1.0215 - acc: 0.6241 - val_loss: 2.4910 - val_acc: 0.4779\n",
            "Epoch 87/100\n",
            "8696/8696 [==============================] - 9s 994us/step - loss: 1.0182 - acc: 0.6228 - val_loss: 2.4331 - val_acc: 0.4931\n",
            "Epoch 88/100\n",
            "8696/8696 [==============================] - 9s 982us/step - loss: 1.0142 - acc: 0.6276 - val_loss: 2.5524 - val_acc: 0.4871\n",
            "Epoch 89/100\n",
            "8696/8696 [==============================] - 8s 971us/step - loss: 1.0113 - acc: 0.6256 - val_loss: 2.4811 - val_acc: 0.4871\n",
            "Epoch 90/100\n",
            "8696/8696 [==============================] - 9s 983us/step - loss: 1.0115 - acc: 0.6220 - val_loss: 2.4865 - val_acc: 0.4779\n",
            "Epoch 91/100\n",
            "8696/8696 [==============================] - 8s 974us/step - loss: 1.0059 - acc: 0.6290 - val_loss: 2.5492 - val_acc: 0.4853\n",
            "Epoch 92/100\n",
            "8696/8696 [==============================] - 8s 971us/step - loss: 1.0073 - acc: 0.6249 - val_loss: 2.5280 - val_acc: 0.4687\n",
            "Epoch 93/100\n",
            "8696/8696 [==============================] - 8s 968us/step - loss: 1.0058 - acc: 0.6257 - val_loss: 2.5009 - val_acc: 0.4742\n",
            "Epoch 94/100\n",
            "8696/8696 [==============================] - 8s 974us/step - loss: 1.0026 - acc: 0.6249 - val_loss: 2.5484 - val_acc: 0.4867\n",
            "Epoch 95/100\n",
            "8696/8696 [==============================] - 8s 971us/step - loss: 0.9951 - acc: 0.6261 - val_loss: 2.5420 - val_acc: 0.4862\n",
            "Epoch 96/100\n",
            "8696/8696 [==============================] - 8s 976us/step - loss: 1.0004 - acc: 0.6252 - val_loss: 2.5219 - val_acc: 0.4798\n",
            "Epoch 97/100\n",
            "8696/8696 [==============================] - 8s 973us/step - loss: 0.9951 - acc: 0.6310 - val_loss: 2.5353 - val_acc: 0.4839\n",
            "Epoch 98/100\n",
            "8696/8696 [==============================] - 8s 974us/step - loss: 0.9975 - acc: 0.6281 - val_loss: 2.5959 - val_acc: 0.4890\n",
            "Epoch 99/100\n",
            "8696/8696 [==============================] - 8s 969us/step - loss: 0.9996 - acc: 0.6250 - val_loss: 2.5319 - val_acc: 0.4738\n",
            "Epoch 100/100\n",
            "8696/8696 [==============================] - 8s 974us/step - loss: 0.9883 - acc: 0.6325 - val_loss: 2.5578 - val_acc: 0.4706\n"
          ],
          "name": "stdout"
        },
        {
          "output_type": "execute_result",
          "data": {
            "text/plain": [
              "<keras.callbacks.History at 0x7f1cc4150668>"
            ]
          },
          "metadata": {
            "tags": []
          },
          "execution_count": 110
        }
      ]
    },
    {
      "cell_type": "code",
      "metadata": {
        "id": "muCdIqxSC4Js",
        "colab_type": "code",
        "colab": {}
      },
      "source": [
        "model.save('model.h5')"
      ],
      "execution_count": 0,
      "outputs": []
    },
    {
      "cell_type": "code",
      "metadata": {
        "id": "m9Sr5h81C4Jx",
        "colab_type": "code",
        "colab": {},
        "outputId": "98fcbc81-d48b-4027-99cb-d8e6efd5cb7f"
      },
      "source": [
        "## load model \n",
        "from keras.models import load_model\n",
        "new_model=load_model('model.h5')"
      ],
      "execution_count": 0,
      "outputs": [
        {
          "output_type": "stream",
          "text": [
            "C:\\Users\\rehab\\Anaconda3\\lib\\site-packages\\h5py\\__init__.py:34: FutureWarning: Conversion of the second argument of issubdtype from `float` to `np.floating` is deprecated. In future, it will be treated as `np.float64 == np.dtype(float).type`.\n",
            "  from ._conv import register_converters as _register_converters\n",
            "Using TensorFlow backend.\n"
          ],
          "name": "stderr"
        }
      ]
    },
    {
      "cell_type": "code",
      "metadata": {
        "id": "OgBz4Ao_C4KA",
        "colab_type": "code",
        "colab": {}
      },
      "source": [
        "with open('targets.pkl','rb') as f:\n",
        "    targets=pickle.load(f)"
      ],
      "execution_count": 0,
      "outputs": []
    },
    {
      "cell_type": "code",
      "metadata": {
        "colab_type": "code",
        "id": "287tu1ytxbIw",
        "colab": {}
      },
      "source": [
        "word2int=token.word_index\n",
        "int2word={value:key for key,value in word2int.items()}\n"
      ],
      "execution_count": 0,
      "outputs": []
    },
    {
      "cell_type": "code",
      "metadata": {
        "colab_type": "code",
        "id": "sUMvo_qpxbFU",
        "colab": {}
      },
      "source": [
        "def get_word(seq):\n",
        "  seq=[i for i in seq if i!=0]\n",
        "  sent=''\n",
        "  for i in seq:\n",
        "    word=int2word[i]\n",
        "    sent+=' '+word\n",
        "  return sent  \n",
        "\n",
        "\n"
      ],
      "execution_count": 0,
      "outputs": []
    },
    {
      "cell_type": "code",
      "metadata": {
        "colab_type": "code",
        "id": "1ox8oMPNyxmE",
        "outputId": "80c01444-e4e2-4228-8726-9852be417bd9",
        "colab": {
          "base_uri": "https://localhost:8080/",
          "height": 35
        }
      },
      "source": [
        "get_word(x_test_padded[10])"
      ],
      "execution_count": 114,
      "outputs": [
        {
          "output_type": "execute_result",
          "data": {
            "text/plain": [
              "' housekeeping maintenance manager'"
            ]
          },
          "metadata": {
            "tags": []
          },
          "execution_count": 114
        }
      ]
    },
    {
      "cell_type": "code",
      "metadata": {
        "colab_type": "code",
        "id": "4MAI9v-LlI1I",
        "outputId": "a63ad8a8-95e7-415f-f18a-ff743fa09c41",
        "colab": {
          "base_uri": "https://localhost:8080/",
          "height": 235
        }
      },
      "source": [
        "data['jobFunction'].value_counts()"
      ],
      "execution_count": 118,
      "outputs": [
        {
          "output_type": "execute_result",
          "data": {
            "text/plain": [
              "['IT/Software Development', 'Engineering - Telecom/Technology']                1489\n",
              "['Engineering - Telecom/Technology', 'IT/Software Development']                1113\n",
              "['Sales/Retail']                                                                583\n",
              "['Administration']                                                              395\n",
              "['Accounting/Finance']                                                          370\n",
              "                                                                               ... \n",
              "['Operations/Management', 'IT/Software Development', 'Strategy/Consulting']       1\n",
              "['Logistics/Supply Chain', 'Operations/Management', 'Engineering - Other']        1\n",
              "['Pharmaceutical', 'Analyst/Research', 'R&D/Science']                             1\n",
              "['Operations/Management', 'Customer Service/Support', 'Sales/Retail']             1\n",
              "['Operations/Management', 'Analyst/Research', 'Administration']                   1\n",
              "Name: jobFunction, Length: 836, dtype: int64"
            ]
          },
          "metadata": {
            "tags": []
          },
          "execution_count": 118
        }
      ]
    },
    {
      "cell_type": "code",
      "metadata": {
        "colab_type": "code",
        "id": "bJAueHH4wXa6",
        "colab": {
          "base_uri": "https://localhost:8080/",
          "height": 564
        },
        "outputId": "d8a4b2ea-0e38-4a3e-c1ff-621f005cf107"
      },
      "source": [
        "from keras.utils import plot_model\n",
        "plot_model(model, to_file='model.png')"
      ],
      "execution_count": 119,
      "outputs": [
        {
          "output_type": "execute_result",
          "data": {
            "image/png": "[encoded data removed]",
            "text/plain": [
              "<IPython.core.display.Image object>"
            ]
          },
          "metadata": {
            "tags": []
          },
          "execution_count": 119
        }
      ]
    },
    {
      "cell_type": "code",
      "metadata": {
        "id": "Rq5qMHvEzUY0",
        "colab_type": "code",
        "colab": {}
      },
      "source": [
        ""
      ],
      "execution_count": 0,
      "outputs": []
    }
  ]
}